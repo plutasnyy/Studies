{
 "cells": [
  {
   "cell_type": "markdown",
   "metadata": {},
   "source": [
    "###### <div style=\"text-align: right\"> Kamil Pluciński 132307 I5 Wtorek 15.10 "
   ]
  },
  {
   "cell_type": "markdown",
   "metadata": {},
   "source": [
    "# <div style=\"text-align: center\">Sprawozdanie</div> "
   ]
  },
  {
   "cell_type": "markdown",
   "metadata": {},
   "source": [
    "Rozpoczynam od zaimportowania danych. Zdecydowałem się na zestaw zawierający zestawienie obserwacji na temat bezrobocia panującego w USA za panowanie danego prezydenta. Dane pochodzą z zestawu \"100 Data Sets\" znajdującego się na stronie:\n",
    "https://www.openintro.org/stat/extras.php"
   ]
  },
  {
   "cell_type": "code",
   "execution_count": 2,
   "metadata": {},
   "outputs": [
    {
     "data": {
      "text/html": [
       "'Kolumny: 5'"
      ],
      "text/latex": [
       "'Kolumny: 5'"
      ],
      "text/markdown": [
       "'Kolumny: 5'"
      ],
      "text/plain": [
       "[1] \"Kolumny: 5\""
      ]
     },
     "metadata": {},
     "output_type": "display_data"
    },
    {
     "data": {
      "text/html": [
       "'Wiersze: 29'"
      ],
      "text/latex": [
       "'Wiersze: 29'"
      ],
      "text/markdown": [
       "'Wiersze: 29'"
      ],
      "text/plain": [
       "[1] \"Wiersze: 29\""
      ]
     },
     "metadata": {},
     "output_type": "display_data"
    },
    {
     "data": {
      "text/html": [
       "<table>\n",
       "<thead><tr><th scope=col>year</th><th scope=col>potus</th><th scope=col>party</th><th scope=col>unemp</th><th scope=col>change</th></tr></thead>\n",
       "<tbody>\n",
       "\t<tr><td>1899               </td><td>William McKinley   </td><td>Republican         </td><td>11.62              </td><td> -9.223301         </td></tr>\n",
       "\t<tr><td>1903               </td><td>Theodore Roosevelt </td><td>Republican         </td><td> 4.30              </td><td> -4.275907         </td></tr>\n",
       "\t<tr><td>1907               </td><td>Theodore Roosevelt </td><td>Republican         </td><td> 3.29              </td><td>-12.291499         </td></tr>\n",
       "\t<tr><td>1911               </td><td>William Howard Taft</td><td>Republican         </td><td> 5.86              </td><td>-26.590640         </td></tr>\n",
       "\t<tr><td>1915               </td><td>Woodrow Wilson     </td><td>Democratic         </td><td> 6.63              </td><td>-20.962199         </td></tr>\n",
       "\t<tr><td>1919               </td><td>Woodrow Wilson     </td><td>Democratic         </td><td> 3.38              </td><td>-10.280374         </td></tr>\n",
       "</tbody>\n",
       "</table>\n"
      ],
      "text/latex": [
       "\\begin{tabular}{r|lllll}\n",
       " year & potus & party & unemp & change\\\\\n",
       "\\hline\n",
       "\t 1899                & William McKinley    & Republican          & 11.62               &  -9.223301         \\\\\n",
       "\t 1903                & Theodore Roosevelt  & Republican          &  4.30               &  -4.275907         \\\\\n",
       "\t 1907                & Theodore Roosevelt  & Republican          &  3.29               & -12.291499         \\\\\n",
       "\t 1911                & William Howard Taft & Republican          &  5.86               & -26.590640         \\\\\n",
       "\t 1915                & Woodrow Wilson      & Democratic          &  6.63               & -20.962199         \\\\\n",
       "\t 1919                & Woodrow Wilson      & Democratic          &  3.38               & -10.280374         \\\\\n",
       "\\end{tabular}\n"
      ],
      "text/markdown": [
       "\n",
       "year | potus | party | unemp | change | \n",
       "|---|---|---|---|---|---|\n",
       "| 1899                | William McKinley    | Republican          | 11.62               |  -9.223301          | \n",
       "| 1903                | Theodore Roosevelt  | Republican          |  4.30               |  -4.275907          | \n",
       "| 1907                | Theodore Roosevelt  | Republican          |  3.29               | -12.291499          | \n",
       "| 1911                | William Howard Taft | Republican          |  5.86               | -26.590640          | \n",
       "| 1915                | Woodrow Wilson      | Democratic          |  6.63               | -20.962199          | \n",
       "| 1919                | Woodrow Wilson      | Democratic          |  3.38               | -10.280374          | \n",
       "\n",
       "\n"
      ],
      "text/plain": [
       "  year potus               party      unemp change    \n",
       "1 1899 William McKinley    Republican 11.62  -9.223301\n",
       "2 1903 Theodore Roosevelt  Republican  4.30  -4.275907\n",
       "3 1907 Theodore Roosevelt  Republican  3.29 -12.291499\n",
       "4 1911 William Howard Taft Republican  5.86 -26.590640\n",
       "5 1915 Woodrow Wilson      Democratic  6.63 -20.962199\n",
       "6 1919 Woodrow Wilson      Democratic  3.38 -10.280374"
      ]
     },
     "metadata": {},
     "output_type": "display_data"
    }
   ],
   "source": [
    "unemployPres <- read.csv(file=\"unemployPres.txt\", sep=\"\t\")\n",
    "sprintf('Kolumny: %d',length(unemployPres))\n",
    "sprintf('Wiersze: %d',length(unemployPres[,1]))\n",
    "head(unemployPres)"
   ]
  },
  {
   "cell_type": "markdown",
   "metadata": {},
   "source": [
    "Dane składają się z 29 wierszy zawierających informacje o roku wyboru prezydenta, jego imieniu i nazwisku, partii, współczynniku bezrobocia i zmianie, które są zebrane w 5 kolumnach."
   ]
  },
  {
   "cell_type": "code",
   "execution_count": 10,
   "metadata": {},
   "outputs": [
    {
     "data": {
      "text/plain": [
       "      year                            potus           party        unemp       \n",
       " Min.   :1899   Franklin Delano Roosevelt: 3   Democrate : 1   Min.   : 3.290  \n",
       " 1st Qu.:1927   Bill Clinton             : 2   Democratic:12   1st Qu.: 4.600  \n",
       " Median :1955   Calvin Coolidge          : 2   Republican:16   Median : 5.600  \n",
       " Mean   :1955   Dwight David Eisenhower  : 2                   Mean   : 6.868  \n",
       " 3rd Qu.:1983   George Walker Bush       : 2                   3rd Qu.: 6.930  \n",
       " Max.   :2011   Harry S. Truman          : 2                   Max.   :21.300  \n",
       "                (Other)                  :16                                   \n",
       "     change       \n",
       " Min.   :-26.591  \n",
       " 1st Qu.:-20.962  \n",
       " Median :-12.291  \n",
       " Mean   :-12.421  \n",
       " 3rd Qu.: -4.571  \n",
       " Max.   :  3.620  \n",
       "                  "
      ]
     },
     "metadata": {},
     "output_type": "display_data"
    }
   ],
   "source": [
    "summary(unemployPres)"
   ]
  },
  {
   "cell_type": "markdown",
   "metadata": {},
   "source": [
    "Z krótkiego podsumowania możemy odczytać, że zakres danych zawiera się miedzy 1899 a 2011 rokiem, najczęścej rządzącym prezydentem był Roosevelt, częściej wybieranym prezydentem był republikanin a bezrobocie w tych czasach wahało się między 3.29 a 21.3 gdzie średnia wynosiła 6.8 a mediana 5.6."
   ]
  },
  {
   "cell_type": "code",
   "execution_count": 11,
   "metadata": {},
   "outputs": [
    {
     "data": {
      "image/png": "[encoded data removed]",
      "text/plain": [
       "Plot with title “Współczynnik bezrobocia”"
      ]
     },
     "metadata": {},
     "output_type": "display_data"
    }
   ],
   "source": [
    "boxplot(unemployPres$unemp, data=nbaHeights, main=\"Współczynnik bezrobocia\")"
   ]
  },
  {
   "cell_type": "markdown",
   "metadata": {},
   "source": [
    "Jak widzimy dane mocno koncentrują się w okolicy 4-6 punktów procentowych z nielicznymi bardzo silnymi odchyleniami w stronę 20 punktów procentowych."
   ]
  },
  {
   "cell_type": "code",
   "execution_count": 6,
   "metadata": {},
   "outputs": [
    {
     "data": {
      "image/png": "[encoded data removed]",
      "text/plain": [
       "Plot with title “Wykres poziomu bezrobocia w USA w zależności od roku”"
      ]
     },
     "metadata": {},
     "output_type": "display_data"
    }
   ],
   "source": [
    "plot(unemployPres$unemp ~ unemployPres$year, type=\"o\", xlab=\"Rok\", ylab=\"Poziom bezrobocia\", \n",
    "     main=\"Wykres poziomu bezrobocia w USA w zależności od roku\")"
   ]
  },
  {
   "cell_type": "markdown",
   "metadata": {},
   "source": [
    "Na podstawie tego wykresu możemy zauważyć, że największe \"wystrzelenia\" wykresu w górę przypadłu na rok ok.1940 co może wiązać się z wybuchem II Wojny Światowej."
   ]
  },
  {
   "cell_type": "code",
   "execution_count": 123,
   "metadata": {},
   "outputs": [
    {
     "data": {
      "image/png": "[encoded data removed]",
      "text/plain": [
       "Plot with title “Szeregi rozdzielcze dla poziomu bezrobocia”"
      ]
     },
     "metadata": {},
     "output_type": "display_data"
    }
   ],
   "source": [
    "interval <- (max(unemployPres$unemp)-min(unemployPres$unemp))/sqrt(length(unemployPres[,1]))\n",
    "borders <- c(seq(min(unemployPres$unemp)-interval/2, max(unemployPres$unemp)+interval/2, interval))\n",
    "ranks <- cut(unemployPres$unemp, breaks=c(borders), include.lowest=TRUE)\n",
    "barplot(table(ranks), main=\"Szeregi rozdzielcze dla poziomu bezrobocia\", xlab = \"Przedziały\", ylab = \"Ilość\")"
   ]
  },
  {
   "cell_type": "markdown",
   "metadata": {},
   "source": [
    "Możemy zaobserwować największe nagromadzenie danych na poziomie między (4.96:8.31> i zerowo na poziomie (11.7,15). Do tego występują nieliczne skrajne wartości w okolicy 20 punktów procentowych o których wspominałem wcześniej."
   ]
  },
  {
   "cell_type": "code",
   "execution_count": 84,
   "metadata": {
    "scrolled": true
   },
   "outputs": [
    {
     "data": {
      "text/plain": [
       "                  unemployPres$potus unemployPres$unemp\n",
       " Barack Obama              : 1       Min.   : 3.795    \n",
       " Bill Clinton              : 1       1st Qu.: 5.054    \n",
       " Calvin Coolidge           : 1       Median : 5.600    \n",
       " Dwight David Eisenhower   : 1       Mean   : 6.747    \n",
       " Franklin Delano Roosevelt : 1       3rd Qu.: 7.800    \n",
       " George Herbert Walker Bush: 1       Max.   :14.600    \n",
       " (Other)                   :12                         "
      ]
     },
     "metadata": {},
     "output_type": "display_data"
    },
    {
     "data": {
      "text/html": [
       "<table>\n",
       "<thead><tr><th scope=col>unemployPres$potus</th><th scope=col>unemployPres$unemp</th></tr></thead>\n",
       "<tbody>\n",
       "\t<tr><td>Barack Obama              </td><td> 9.700                    </td></tr>\n",
       "\t<tr><td>Bill Clinton              </td><td> 5.300                    </td></tr>\n",
       "\t<tr><td>Calvin Coolidge           </td><td> 5.475                    </td></tr>\n",
       "\t<tr><td>Dwight David Eisenhower   </td><td> 6.150                    </td></tr>\n",
       "\t<tr><td>Franklin Delano Roosevelt </td><td>14.600                    </td></tr>\n",
       "\t<tr><td>George Herbert Walker Bush</td><td> 5.600                    </td></tr>\n",
       "\t<tr><td>George Walker Bush        </td><td> 5.200                    </td></tr>\n",
       "\t<tr><td>Gerald Rudolph Ford       </td><td> 5.600                    </td></tr>\n",
       "\t<tr><td>Harry S. Truman           </td><td> 4.600                    </td></tr>\n",
       "\t<tr><td>Herbert Clark Hoover      </td><td> 8.940                    </td></tr>\n",
       "\t<tr><td>Jimmy Carter              </td><td> 6.100                    </td></tr>\n",
       "\t<tr><td>Lyndon Baines Johnson     </td><td> 4.650                    </td></tr>\n",
       "\t<tr><td>Richard Milhous Nixon     </td><td> 4.900                    </td></tr>\n",
       "\t<tr><td>Ronald Wilson Reagan      </td><td> 8.350                    </td></tr>\n",
       "\t<tr><td>Theodore Roosevelt        </td><td> 3.795                    </td></tr>\n",
       "\t<tr><td>William Howard Taft       </td><td> 5.860                    </td></tr>\n",
       "\t<tr><td>William McKinley          </td><td>11.620                    </td></tr>\n",
       "\t<tr><td>Woodrow Wilson            </td><td> 5.005                    </td></tr>\n",
       "</tbody>\n",
       "</table>\n"
      ],
      "text/latex": [
       "\\begin{tabular}{r|ll}\n",
       " unemployPres\\$potus & unemployPres\\$unemp\\\\\n",
       "\\hline\n",
       "\t Barack Obama               &  9.700                    \\\\\n",
       "\t Bill Clinton               &  5.300                    \\\\\n",
       "\t Calvin Coolidge            &  5.475                    \\\\\n",
       "\t Dwight David Eisenhower    &  6.150                    \\\\\n",
       "\t Franklin Delano Roosevelt  & 14.600                    \\\\\n",
       "\t George Herbert Walker Bush &  5.600                    \\\\\n",
       "\t George Walker Bush         &  5.200                    \\\\\n",
       "\t Gerald Rudolph Ford        &  5.600                    \\\\\n",
       "\t Harry S. Truman            &  4.600                    \\\\\n",
       "\t Herbert Clark Hoover       &  8.940                    \\\\\n",
       "\t Jimmy Carter               &  6.100                    \\\\\n",
       "\t Lyndon Baines Johnson      &  4.650                    \\\\\n",
       "\t Richard Milhous Nixon      &  4.900                    \\\\\n",
       "\t Ronald Wilson Reagan       &  8.350                    \\\\\n",
       "\t Theodore Roosevelt         &  3.795                    \\\\\n",
       "\t William Howard Taft        &  5.860                    \\\\\n",
       "\t William McKinley           & 11.620                    \\\\\n",
       "\t Woodrow Wilson             &  5.005                    \\\\\n",
       "\\end{tabular}\n"
      ],
      "text/markdown": [
       "\n",
       "unemployPres$potus | unemployPres$unemp | \n",
       "|---|---|---|---|---|---|---|---|---|---|---|---|---|---|---|---|---|---|\n",
       "| Barack Obama               |  9.700                     | \n",
       "| Bill Clinton               |  5.300                     | \n",
       "| Calvin Coolidge            |  5.475                     | \n",
       "| Dwight David Eisenhower    |  6.150                     | \n",
       "| Franklin Delano Roosevelt  | 14.600                     | \n",
       "| George Herbert Walker Bush |  5.600                     | \n",
       "| George Walker Bush         |  5.200                     | \n",
       "| Gerald Rudolph Ford        |  5.600                     | \n",
       "| Harry S. Truman            |  4.600                     | \n",
       "| Herbert Clark Hoover       |  8.940                     | \n",
       "| Jimmy Carter               |  6.100                     | \n",
       "| Lyndon Baines Johnson      |  4.650                     | \n",
       "| Richard Milhous Nixon      |  4.900                     | \n",
       "| Ronald Wilson Reagan       |  8.350                     | \n",
       "| Theodore Roosevelt         |  3.795                     | \n",
       "| William Howard Taft        |  5.860                     | \n",
       "| William McKinley           | 11.620                     | \n",
       "| Woodrow Wilson             |  5.005                     | \n",
       "\n",
       "\n"
      ],
      "text/plain": [
       "   unemployPres$potus         unemployPres$unemp\n",
       "1  Barack Obama                9.700            \n",
       "2  Bill Clinton                5.300            \n",
       "3  Calvin Coolidge             5.475            \n",
       "4  Dwight David Eisenhower     6.150            \n",
       "5  Franklin Delano Roosevelt  14.600            \n",
       "6  George Herbert Walker Bush  5.600            \n",
       "7  George Walker Bush          5.200            \n",
       "8  Gerald Rudolph Ford         5.600            \n",
       "9  Harry S. Truman             4.600            \n",
       "10 Herbert Clark Hoover        8.940            \n",
       "11 Jimmy Carter                6.100            \n",
       "12 Lyndon Baines Johnson       4.650            \n",
       "13 Richard Milhous Nixon       4.900            \n",
       "14 Ronald Wilson Reagan        8.350            \n",
       "15 Theodore Roosevelt          3.795            \n",
       "16 William Howard Taft         5.860            \n",
       "17 William McKinley           11.620            \n",
       "18 Woodrow Wilson              5.005            "
      ]
     },
     "metadata": {},
     "output_type": "display_data"
    }
   ],
   "source": [
    "meanUnempByPotus <- aggregate(unemployPres$unemp~unemployPres$potus,unemployPres, mean)\n",
    "summary(meanUnempByPotus)\n",
    "meanUnempByPotus"
   ]
  },
  {
   "cell_type": "markdown",
   "metadata": {},
   "source": [
    "Z tych danych możemy odczytać, że największe średnie bezrobocie panowało za rządów Franklin Delano Roosevelta a najmniejsze Theodore Roosevelta.\t"
   ]
  },
  {
   "cell_type": "markdown",
   "metadata": {},
   "source": [
    "Założmy, że średnie bezrobocie za panowania demokratów i republikan było różne.\n",
    "Za H0 = u1 == u2\n",
    "Gdzie u1 to średnie bezrobocie za panowania demkoratów, a u2 republikan. Za poziom istotności przyjmę 5%."
   ]
  },
  {
   "cell_type": "code",
   "execution_count": 18,
   "metadata": {},
   "outputs": [
    {
     "data": {
      "text/plain": [
       "\n",
       "\tWelch Two Sample t-test\n",
       "\n",
       "data:  democratyData$unemp and republicanData$unemp\n",
       "t = 0.79838, df = 15.04, p-value = 0.4371\n",
       "alternative hypothesis: true difference in means is not equal to 0\n",
       "95 percent confidence interval:\n",
       " -2.193736  4.822390\n",
       "sample estimates:\n",
       "mean of x mean of y \n",
       " 7.593077  6.278750 \n"
      ]
     },
     "metadata": {},
     "output_type": "display_data"
    }
   ],
   "source": [
    "republicanData <- subset(unemployPres, unemployPres$party == \"Republican\")\n",
    "democratyData <- subset(unemployPres, unemployPres$party != \"Republican\")\n",
    "t.test(democratyData$unemp, republicanData$unemp, alternative = c(\"two.sided\"), conf.level = 0.95)"
   ]
  },
  {
   "cell_type": "markdown",
   "metadata": {},
   "source": [
    "Na podstawie przedziału ufności i obliczonej wartości t, widzę że nie mogę odrzucić H0 i mogę przyjąć, że poziom bezrobocia nie zależy od strony do której należał prezydent."
   ]
  }
 ],
 "metadata": {
  "kernelspec": {
   "display_name": "R",
   "language": "R",
   "name": "ir"
  },
  "language_info": {
   "codemirror_mode": "r",
   "file_extension": ".r",
   "mimetype": "text/x-r-source",
   "name": "R",
   "pygments_lexer": "r",
   "version": "3.4.4"
  }
 },
 "nbformat": 4,
 "nbformat_minor": 2
}
